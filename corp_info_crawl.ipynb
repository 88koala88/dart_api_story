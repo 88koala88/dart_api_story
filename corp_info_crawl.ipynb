{
 "cells": [
  {
   "cell_type": "markdown",
   "id": "a7a6657d",
   "metadata": {},
   "source": [
    "# DART 고유번호 수집\n",
    "\n",
    "- [다트 고유번호](https://opendart.fss.or.kr/guide/detail.do?apiGrpCd=DS001&apiId=2019018)"
   ]
  },
  {
   "cell_type": "code",
   "execution_count": 2,
   "id": "7c95d11a",
   "metadata": {},
   "outputs": [],
   "source": [
    "### 필요한 모듈\n",
    "from urllib.request import urlopen\n",
    "from io import BytesIO\n",
    "from zipfile import ZipFile\n",
    "import xml.etree.ElementTree as ET\n",
    "import pandas as pd\n",
    "\n",
    "from time import sleep\n",
    "import requests"
   ]
  },
  {
   "cell_type": "code",
   "execution_count": 6,
   "id": "e4c64ba6",
   "metadata": {},
   "outputs": [],
   "source": [
    "api_key = \"신청한 개인 api key\""
   ]
  },
  {
   "cell_type": "markdown",
   "id": "ffc22022",
   "metadata": {},
   "source": [
    "api와 url을 통해 다트에 등록된 고유번호를 추출한다."
   ]
  },
  {
   "cell_type": "code",
   "execution_count": 8,
   "id": "cf34619c",
   "metadata": {},
   "outputs": [],
   "source": [
    "### 회사고유번호 데이터 불러오기\n",
    "url = 'https://opendart.fss.or.kr/api/corpCode.xml?crtfc_key=' + api_key\n",
    "with urlopen(url) as ziprep:\n",
    "    with ZipFile(BytesIO(zipresp.read())) as zfile:\n",
    "        zfile.extractall('corp_num')"
   ]
  },
  {
   "cell_type": "markdown",
   "id": "d9799dc3",
   "metadata": {},
   "source": [
    "이렇게 고유 xml 파일을 corp_num 폴더에 수집하게 되었다. xml파일 이름은 CORPCODE.xml 이다."
   ]
  },
  {
   "cell_type": "markdown",
   "id": "cfaed92e",
   "metadata": {},
   "source": [
    "## 고유번호 변환\n",
    "\n",
    "ElementTree 모듈을 활용해서 corp_num/CORPCODE.xml을 파싱한다. 루트를 가져와서 하나하나 판다스 데이터 프레임으로 변환한다."
   ]
  },
  {
   "cell_type": "code",
   "execution_count": 9,
   "id": "02d70c09",
   "metadata": {},
   "outputs": [],
   "source": [
    "### 압축파일 안의 xml 파일 읽기\n",
    "tree = ET.parse('corp_num/CORPCODE.xml')\n",
    "root = tree.getroot()"
   ]
  },
  {
   "cell_type": "markdown",
   "id": "764158c7",
   "metadata": {},
   "source": [
    "이제 본격적으로 데이터 프레임으로 바꿔주겠다. 루트의 '리스트'라는 이름을 반복문으로 사용하여 하나하나씩 데이터 프레임으로 만들어주고, 이것을 pd.concat()를 사용하여 하나씩 이어붙이도록 하겠다."
   ]
  },
  {
   "cell_type": "code",
   "execution_count": 13,
   "id": "f1042fa4",
   "metadata": {},
   "outputs": [
    {
     "data": {
      "text/html": [
       "<div>\n",
       "<style scoped>\n",
       "    .dataframe tbody tr th:only-of-type {\n",
       "        vertical-align: middle;\n",
       "    }\n",
       "\n",
       "    .dataframe tbody tr th {\n",
       "        vertical-align: top;\n",
       "    }\n",
       "\n",
       "    .dataframe thead th {\n",
       "        text-align: right;\n",
       "    }\n",
       "</style>\n",
       "<table border=\"1\" class=\"dataframe\">\n",
       "  <thead>\n",
       "    <tr style=\"text-align: right;\">\n",
       "      <th></th>\n",
       "    </tr>\n",
       "  </thead>\n",
       "  <tbody>\n",
       "  </tbody>\n",
       "</table>\n",
       "</div>"
      ],
      "text/plain": [
       "Empty DataFrame\n",
       "Columns: []\n",
       "Index: []"
      ]
     },
     "execution_count": 13,
     "metadata": {},
     "output_type": "execute_result"
    }
   ],
   "source": [
    "corp_info_df = pd.DataFrame() \n",
    "corp_info_df"
   ]
  },
  {
   "cell_type": "code",
   "execution_count": 14,
   "id": "0393886a",
   "metadata": {},
   "outputs": [],
   "source": [
    "for country in root.iter(\"list\"):\n",
    "    country_dic = [{\n",
    "        \"corp_code\":country.findtext(\"corp_code\"),\n",
    "        \"corp_name\":country.findtext(\"corp_name\"),\n",
    "        \"stock_code\":country.findtext(\"stock_code\"),\n",
    "        \"modify_date\":country.findtext(\"modify_date\")\n",
    "    }]\n",
    "    \n",
    "    df = pd.DataFrame(country_dic)\n",
    "    corp_info_df = pd.concat([corp_info_df,df])"
   ]
  },
  {
   "cell_type": "markdown",
   "id": "6922f693",
   "metadata": {},
   "source": [
    "이렇게 수집된 corp_info 데이터는 corp_info_raw.csv로 저장하겠다."
   ]
  },
  {
   "cell_type": "code",
   "execution_count": 16,
   "id": "aee62577",
   "metadata": {},
   "outputs": [],
   "source": [
    "# corp_info_df.to_csv(\"corp_info_raw.csv\", index = False)"
   ]
  },
  {
   "cell_type": "markdown",
   "id": "c49f9f27",
   "metadata": {},
   "source": [
    "### 데이터 로드\n",
    "\n",
    "이렇게 수집한 corp_info_raw.csv를 한번 불러와보자. corp_code는 앞에 0이 있기 때문에, 불러올때 문자열로 변환을 시켜주자. 이때 사용하는 옵션은 dtype로 corp_code를 str로 변환시켜주는 역할을 한다."
   ]
  },
  {
   "cell_type": "code",
   "execution_count": 10,
   "id": "bf61dd1b",
   "metadata": {},
   "outputs": [],
   "source": [
    "corp_info_df = pd.read_csv(\"corp_info_raw.csv\", dtype = {'corp_code': str})"
   ]
  },
  {
   "cell_type": "code",
   "execution_count": 11,
   "id": "2f5b7cc5",
   "metadata": {},
   "outputs": [
    {
     "data": {
      "text/html": [
       "<div>\n",
       "<style scoped>\n",
       "    .dataframe tbody tr th:only-of-type {\n",
       "        vertical-align: middle;\n",
       "    }\n",
       "\n",
       "    .dataframe tbody tr th {\n",
       "        vertical-align: top;\n",
       "    }\n",
       "\n",
       "    .dataframe thead th {\n",
       "        text-align: right;\n",
       "    }\n",
       "</style>\n",
       "<table border=\"1\" class=\"dataframe\">\n",
       "  <thead>\n",
       "    <tr style=\"text-align: right;\">\n",
       "      <th></th>\n",
       "      <th>corp_code</th>\n",
       "      <th>corp_name</th>\n",
       "      <th>stock_code</th>\n",
       "      <th>modify_date</th>\n",
       "    </tr>\n",
       "  </thead>\n",
       "  <tbody>\n",
       "    <tr>\n",
       "      <th>0</th>\n",
       "      <td>00434003</td>\n",
       "      <td>다코</td>\n",
       "      <td></td>\n",
       "      <td>20170630</td>\n",
       "    </tr>\n",
       "    <tr>\n",
       "      <th>1</th>\n",
       "      <td>00434456</td>\n",
       "      <td>일산약품</td>\n",
       "      <td></td>\n",
       "      <td>20170630</td>\n",
       "    </tr>\n",
       "    <tr>\n",
       "      <th>2</th>\n",
       "      <td>00430964</td>\n",
       "      <td>굿앤엘에스</td>\n",
       "      <td></td>\n",
       "      <td>20170630</td>\n",
       "    </tr>\n",
       "    <tr>\n",
       "      <th>3</th>\n",
       "      <td>00432403</td>\n",
       "      <td>한라판지</td>\n",
       "      <td></td>\n",
       "      <td>20170630</td>\n",
       "    </tr>\n",
       "    <tr>\n",
       "      <th>4</th>\n",
       "      <td>00388953</td>\n",
       "      <td>크레디피아제이십오차유동화전문회사</td>\n",
       "      <td></td>\n",
       "      <td>20170630</td>\n",
       "    </tr>\n",
       "    <tr>\n",
       "      <th>...</th>\n",
       "      <td>...</td>\n",
       "      <td>...</td>\n",
       "      <td>...</td>\n",
       "      <td>...</td>\n",
       "    </tr>\n",
       "    <tr>\n",
       "      <th>98028</th>\n",
       "      <td>00646510</td>\n",
       "      <td>미래에셋파트너스사호사모투자전문회사</td>\n",
       "      <td></td>\n",
       "      <td>20230228</td>\n",
       "    </tr>\n",
       "    <tr>\n",
       "      <th>98029</th>\n",
       "      <td>01184822</td>\n",
       "      <td>미래에셋파트너스9호사모투자</td>\n",
       "      <td></td>\n",
       "      <td>20230228</td>\n",
       "    </tr>\n",
       "    <tr>\n",
       "      <th>98030</th>\n",
       "      <td>00755252</td>\n",
       "      <td>시니안</td>\n",
       "      <td></td>\n",
       "      <td>20230228</td>\n",
       "    </tr>\n",
       "    <tr>\n",
       "      <th>98031</th>\n",
       "      <td>00227582</td>\n",
       "      <td>청호나이스</td>\n",
       "      <td></td>\n",
       "      <td>20230228</td>\n",
       "    </tr>\n",
       "    <tr>\n",
       "      <th>98032</th>\n",
       "      <td>01615845</td>\n",
       "      <td>메타버스월드</td>\n",
       "      <td></td>\n",
       "      <td>20230228</td>\n",
       "    </tr>\n",
       "  </tbody>\n",
       "</table>\n",
       "<p>98033 rows × 4 columns</p>\n",
       "</div>"
      ],
      "text/plain": [
       "      corp_code           corp_name stock_code  modify_date\n",
       "0      00434003                  다코                20170630\n",
       "1      00434456                일산약품                20170630\n",
       "2      00430964               굿앤엘에스                20170630\n",
       "3      00432403                한라판지                20170630\n",
       "4      00388953   크레디피아제이십오차유동화전문회사                20170630\n",
       "...         ...                 ...        ...          ...\n",
       "98028  00646510  미래에셋파트너스사호사모투자전문회사                20230228\n",
       "98029  01184822      미래에셋파트너스9호사모투자                20230228\n",
       "98030  00755252                 시니안                20230228\n",
       "98031  00227582               청호나이스                20230228\n",
       "98032  01615845              메타버스월드                20230228\n",
       "\n",
       "[98033 rows x 4 columns]"
      ]
     },
     "execution_count": 11,
     "metadata": {},
     "output_type": "execute_result"
    }
   ],
   "source": [
    "corp_info_df"
   ]
  },
  {
   "cell_type": "markdown",
   "id": "34f0a4d8",
   "metadata": {},
   "source": [
    "상장된 회사들만 추려보자.\n",
    "\n",
    "lambda를 사용해서 문자열이 6인것만 추려서 stock code를 가져오자."
   ]
  },
  {
   "cell_type": "code",
   "execution_count": 14,
   "id": "5b44c7d9",
   "metadata": {},
   "outputs": [],
   "source": [
    "corp_info_df = corp_info_df[corp_info_df.stock_code.apply(lambda x: len(str(x))==6)]\n",
    "corp_info_df = corp_info_df.reset_index(drop=True)"
   ]
  },
  {
   "cell_type": "code",
   "execution_count": 15,
   "id": "6ddcd576",
   "metadata": {},
   "outputs": [
    {
     "data": {
      "text/html": [
       "<div>\n",
       "<style scoped>\n",
       "    .dataframe tbody tr th:only-of-type {\n",
       "        vertical-align: middle;\n",
       "    }\n",
       "\n",
       "    .dataframe tbody tr th {\n",
       "        vertical-align: top;\n",
       "    }\n",
       "\n",
       "    .dataframe thead th {\n",
       "        text-align: right;\n",
       "    }\n",
       "</style>\n",
       "<table border=\"1\" class=\"dataframe\">\n",
       "  <thead>\n",
       "    <tr style=\"text-align: right;\">\n",
       "      <th></th>\n",
       "      <th>corp_code</th>\n",
       "      <th>corp_name</th>\n",
       "      <th>stock_code</th>\n",
       "      <th>modify_date</th>\n",
       "    </tr>\n",
       "  </thead>\n",
       "  <tbody>\n",
       "    <tr>\n",
       "      <th>0</th>\n",
       "      <td>00260985</td>\n",
       "      <td>한빛네트</td>\n",
       "      <td>036720</td>\n",
       "      <td>20170630</td>\n",
       "    </tr>\n",
       "    <tr>\n",
       "      <th>1</th>\n",
       "      <td>00264529</td>\n",
       "      <td>엔플렉스</td>\n",
       "      <td>040130</td>\n",
       "      <td>20170630</td>\n",
       "    </tr>\n",
       "    <tr>\n",
       "      <th>2</th>\n",
       "      <td>00358545</td>\n",
       "      <td>동서정보기술</td>\n",
       "      <td>055000</td>\n",
       "      <td>20170630</td>\n",
       "    </tr>\n",
       "    <tr>\n",
       "      <th>3</th>\n",
       "      <td>00231567</td>\n",
       "      <td>애드모바일</td>\n",
       "      <td>032600</td>\n",
       "      <td>20170630</td>\n",
       "    </tr>\n",
       "    <tr>\n",
       "      <th>4</th>\n",
       "      <td>00247939</td>\n",
       "      <td>씨모스</td>\n",
       "      <td>037600</td>\n",
       "      <td>20170630</td>\n",
       "    </tr>\n",
       "    <tr>\n",
       "      <th>...</th>\n",
       "      <td>...</td>\n",
       "      <td>...</td>\n",
       "      <td>...</td>\n",
       "      <td>...</td>\n",
       "    </tr>\n",
       "    <tr>\n",
       "      <th>3560</th>\n",
       "      <td>00413417</td>\n",
       "      <td>우리손에프앤지</td>\n",
       "      <td>073560</td>\n",
       "      <td>20230403</td>\n",
       "    </tr>\n",
       "    <tr>\n",
       "      <th>3561</th>\n",
       "      <td>00440712</td>\n",
       "      <td>어반리튬</td>\n",
       "      <td>073570</td>\n",
       "      <td>20230403</td>\n",
       "    </tr>\n",
       "    <tr>\n",
       "      <th>3562</th>\n",
       "      <td>00483735</td>\n",
       "      <td>해성옵틱스</td>\n",
       "      <td>076610</td>\n",
       "      <td>20230403</td>\n",
       "    </tr>\n",
       "    <tr>\n",
       "      <th>3563</th>\n",
       "      <td>00516246</td>\n",
       "      <td>알에프세미</td>\n",
       "      <td>096610</td>\n",
       "      <td>20230403</td>\n",
       "    </tr>\n",
       "    <tr>\n",
       "      <th>3564</th>\n",
       "      <td>00525679</td>\n",
       "      <td>차바이오텍</td>\n",
       "      <td>085660</td>\n",
       "      <td>20230403</td>\n",
       "    </tr>\n",
       "  </tbody>\n",
       "</table>\n",
       "<p>3565 rows × 4 columns</p>\n",
       "</div>"
      ],
      "text/plain": [
       "     corp_code corp_name stock_code  modify_date\n",
       "0     00260985      한빛네트     036720     20170630\n",
       "1     00264529      엔플렉스     040130     20170630\n",
       "2     00358545    동서정보기술     055000     20170630\n",
       "3     00231567     애드모바일     032600     20170630\n",
       "4     00247939       씨모스     037600     20170630\n",
       "...        ...       ...        ...          ...\n",
       "3560  00413417   우리손에프앤지     073560     20230403\n",
       "3561  00440712      어반리튬     073570     20230403\n",
       "3562  00483735     해성옵틱스     076610     20230403\n",
       "3563  00516246     알에프세미     096610     20230403\n",
       "3564  00525679     차바이오텍     085660     20230403\n",
       "\n",
       "[3565 rows x 4 columns]"
      ]
     },
     "execution_count": 15,
     "metadata": {},
     "output_type": "execute_result"
    }
   ],
   "source": [
    "corp_info_df"
   ]
  },
  {
   "cell_type": "markdown",
   "id": "b917f356",
   "metadata": {},
   "source": [
    "이렇게 우리는 주가 데이터만 뽑아서 수집을 해보았다. 그러나 '한빛네트'라는 회사는 부도가 난 회사이므로 실제로 주가데이터에 영향을 주지 않는다. 다음에는 이 데이터를 추려놓고 작업을 하는 쪽으로 하고 이번에는 이 데이터를 저장하고 마무리해보자."
   ]
  },
  {
   "cell_type": "code",
   "execution_count": 16,
   "id": "65eb41a8",
   "metadata": {},
   "outputs": [],
   "source": [
    "corp_info_df.to_csv(\"corp_info_stock_code.csv\", index = False)"
   ]
  },
  {
   "cell_type": "code",
   "execution_count": 15,
   "id": "f0fc1c50",
   "metadata": {},
   "outputs": [],
   "source": [
    "dfdf = pd.read_csv(\"corp_info_stock_code.csv\")"
   ]
  },
  {
   "cell_type": "code",
   "execution_count": 16,
   "id": "4c20313a",
   "metadata": {},
   "outputs": [],
   "source": [
    "dfdf['corp_code'] = dfdf['corp_code'].astype(str).str.zfill(8)\n",
    "dfdf['stock_code'] = dfdf['stock_code'].astype(str).str.zfill(6)"
   ]
  },
  {
   "cell_type": "code",
   "execution_count": 17,
   "id": "b09df584",
   "metadata": {},
   "outputs": [
    {
     "data": {
      "text/html": [
       "<div>\n",
       "<style scoped>\n",
       "    .dataframe tbody tr th:only-of-type {\n",
       "        vertical-align: middle;\n",
       "    }\n",
       "\n",
       "    .dataframe tbody tr th {\n",
       "        vertical-align: top;\n",
       "    }\n",
       "\n",
       "    .dataframe thead th {\n",
       "        text-align: right;\n",
       "    }\n",
       "</style>\n",
       "<table border=\"1\" class=\"dataframe\">\n",
       "  <thead>\n",
       "    <tr style=\"text-align: right;\">\n",
       "      <th></th>\n",
       "      <th>corp_code</th>\n",
       "      <th>corp_name</th>\n",
       "      <th>stock_code</th>\n",
       "      <th>modify_date</th>\n",
       "    </tr>\n",
       "  </thead>\n",
       "  <tbody>\n",
       "    <tr>\n",
       "      <th>0</th>\n",
       "      <td>00260985</td>\n",
       "      <td>한빛네트</td>\n",
       "      <td>036720</td>\n",
       "      <td>20170630</td>\n",
       "    </tr>\n",
       "    <tr>\n",
       "      <th>1</th>\n",
       "      <td>00264529</td>\n",
       "      <td>엔플렉스</td>\n",
       "      <td>040130</td>\n",
       "      <td>20170630</td>\n",
       "    </tr>\n",
       "    <tr>\n",
       "      <th>2</th>\n",
       "      <td>00358545</td>\n",
       "      <td>동서정보기술</td>\n",
       "      <td>055000</td>\n",
       "      <td>20170630</td>\n",
       "    </tr>\n",
       "    <tr>\n",
       "      <th>3</th>\n",
       "      <td>00231567</td>\n",
       "      <td>애드모바일</td>\n",
       "      <td>032600</td>\n",
       "      <td>20170630</td>\n",
       "    </tr>\n",
       "    <tr>\n",
       "      <th>4</th>\n",
       "      <td>00247939</td>\n",
       "      <td>씨모스</td>\n",
       "      <td>037600</td>\n",
       "      <td>20170630</td>\n",
       "    </tr>\n",
       "    <tr>\n",
       "      <th>...</th>\n",
       "      <td>...</td>\n",
       "      <td>...</td>\n",
       "      <td>...</td>\n",
       "      <td>...</td>\n",
       "    </tr>\n",
       "    <tr>\n",
       "      <th>3560</th>\n",
       "      <td>00413417</td>\n",
       "      <td>우리손에프앤지</td>\n",
       "      <td>073560</td>\n",
       "      <td>20230403</td>\n",
       "    </tr>\n",
       "    <tr>\n",
       "      <th>3561</th>\n",
       "      <td>00440712</td>\n",
       "      <td>어반리튬</td>\n",
       "      <td>073570</td>\n",
       "      <td>20230403</td>\n",
       "    </tr>\n",
       "    <tr>\n",
       "      <th>3562</th>\n",
       "      <td>00483735</td>\n",
       "      <td>해성옵틱스</td>\n",
       "      <td>076610</td>\n",
       "      <td>20230403</td>\n",
       "    </tr>\n",
       "    <tr>\n",
       "      <th>3563</th>\n",
       "      <td>00516246</td>\n",
       "      <td>알에프세미</td>\n",
       "      <td>096610</td>\n",
       "      <td>20230403</td>\n",
       "    </tr>\n",
       "    <tr>\n",
       "      <th>3564</th>\n",
       "      <td>00525679</td>\n",
       "      <td>차바이오텍</td>\n",
       "      <td>085660</td>\n",
       "      <td>20230403</td>\n",
       "    </tr>\n",
       "  </tbody>\n",
       "</table>\n",
       "<p>3565 rows × 4 columns</p>\n",
       "</div>"
      ],
      "text/plain": [
       "     corp_code corp_name stock_code  modify_date\n",
       "0     00260985      한빛네트     036720     20170630\n",
       "1     00264529      엔플렉스     040130     20170630\n",
       "2     00358545    동서정보기술     055000     20170630\n",
       "3     00231567     애드모바일     032600     20170630\n",
       "4     00247939       씨모스     037600     20170630\n",
       "...        ...       ...        ...          ...\n",
       "3560  00413417   우리손에프앤지     073560     20230403\n",
       "3561  00440712      어반리튬     073570     20230403\n",
       "3562  00483735     해성옵틱스     076610     20230403\n",
       "3563  00516246     알에프세미     096610     20230403\n",
       "3564  00525679     차바이오텍     085660     20230403\n",
       "\n",
       "[3565 rows x 4 columns]"
      ]
     },
     "execution_count": 17,
     "metadata": {},
     "output_type": "execute_result"
    }
   ],
   "source": [
    "dfdf"
   ]
  }
 ],
 "metadata": {
  "kernelspec": {
   "display_name": "Python 3 (ipykernel)",
   "language": "python",
   "name": "python3"
  },
  "language_info": {
   "codemirror_mode": {
    "name": "ipython",
    "version": 3
   },
   "file_extension": ".py",
   "mimetype": "text/x-python",
   "name": "python",
   "nbconvert_exporter": "python",
   "pygments_lexer": "ipython3",
   "version": "3.9.13"
  },
  "toc": {
   "base_numbering": 1,
   "nav_menu": {},
   "number_sections": true,
   "sideBar": true,
   "skip_h1_title": false,
   "title_cell": "Table of Contents",
   "title_sidebar": "Contents",
   "toc_cell": false,
   "toc_position": {},
   "toc_section_display": true,
   "toc_window_display": false
  }
 },
 "nbformat": 4,
 "nbformat_minor": 5
}
