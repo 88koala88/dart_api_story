{
 "cells": [
  {
   "cell_type": "markdown",
   "id": "93e29ce7",
   "metadata": {},
   "source": [
    "# DART 기업 개황 수집"
   ]
  },
  {
   "cell_type": "code",
   "execution_count": 60,
   "id": "c6251fe6",
   "metadata": {},
   "outputs": [],
   "source": [
    "### 필요한 모듈\n",
    "from urllib.request import urlopen\n",
    "from io import BytesIO\n",
    "from zipfile import ZipFile\n",
    "import xml.etree.ElementTree as ET\n",
    "import pandas as pd\n",
    "\n",
    "from time import sleep\n",
    "import requests\n",
    "import json\n",
    "\n",
    "\n",
    "from datetime import datetime"
   ]
  },
  {
   "cell_type": "code",
   "execution_count": 2,
   "id": "04e4c33b",
   "metadata": {},
   "outputs": [],
   "source": [
    "api_key = \"801b9fc87e380dfc40a19a593d6fd762bc681388\""
   ]
  },
  {
   "cell_type": "code",
   "execution_count": 56,
   "id": "151598e2",
   "metadata": {},
   "outputs": [],
   "source": [
    "corp_info_stock_code = pd.read_csv(\"corp_info_stock_code.csv\", dtype = {'corp_code':str, 'stock_code':str})"
   ]
  },
  {
   "cell_type": "code",
   "execution_count": 65,
   "id": "c160a13f",
   "metadata": {},
   "outputs": [
    {
     "data": {
      "text/html": [
       "<div>\n",
       "<style scoped>\n",
       "    .dataframe tbody tr th:only-of-type {\n",
       "        vertical-align: middle;\n",
       "    }\n",
       "\n",
       "    .dataframe tbody tr th {\n",
       "        vertical-align: top;\n",
       "    }\n",
       "\n",
       "    .dataframe thead th {\n",
       "        text-align: right;\n",
       "    }\n",
       "</style>\n",
       "<table border=\"1\" class=\"dataframe\">\n",
       "  <thead>\n",
       "    <tr style=\"text-align: right;\">\n",
       "      <th></th>\n",
       "      <th>corp_code</th>\n",
       "      <th>corp_name</th>\n",
       "      <th>stock_code</th>\n",
       "      <th>modify_date</th>\n",
       "    </tr>\n",
       "  </thead>\n",
       "  <tbody>\n",
       "    <tr>\n",
       "      <th>0</th>\n",
       "      <td>00260985</td>\n",
       "      <td>한빛네트</td>\n",
       "      <td>036720</td>\n",
       "      <td>20170630</td>\n",
       "    </tr>\n",
       "    <tr>\n",
       "      <th>1</th>\n",
       "      <td>00264529</td>\n",
       "      <td>엔플렉스</td>\n",
       "      <td>040130</td>\n",
       "      <td>20170630</td>\n",
       "    </tr>\n",
       "    <tr>\n",
       "      <th>2</th>\n",
       "      <td>00358545</td>\n",
       "      <td>동서정보기술</td>\n",
       "      <td>055000</td>\n",
       "      <td>20170630</td>\n",
       "    </tr>\n",
       "    <tr>\n",
       "      <th>3</th>\n",
       "      <td>00231567</td>\n",
       "      <td>애드모바일</td>\n",
       "      <td>032600</td>\n",
       "      <td>20170630</td>\n",
       "    </tr>\n",
       "    <tr>\n",
       "      <th>4</th>\n",
       "      <td>00247939</td>\n",
       "      <td>씨모스</td>\n",
       "      <td>037600</td>\n",
       "      <td>20170630</td>\n",
       "    </tr>\n",
       "    <tr>\n",
       "      <th>...</th>\n",
       "      <td>...</td>\n",
       "      <td>...</td>\n",
       "      <td>...</td>\n",
       "      <td>...</td>\n",
       "    </tr>\n",
       "    <tr>\n",
       "      <th>3560</th>\n",
       "      <td>00413417</td>\n",
       "      <td>우리손에프앤지</td>\n",
       "      <td>073560</td>\n",
       "      <td>20230403</td>\n",
       "    </tr>\n",
       "    <tr>\n",
       "      <th>3561</th>\n",
       "      <td>00440712</td>\n",
       "      <td>어반리튬</td>\n",
       "      <td>073570</td>\n",
       "      <td>20230403</td>\n",
       "    </tr>\n",
       "    <tr>\n",
       "      <th>3562</th>\n",
       "      <td>00483735</td>\n",
       "      <td>해성옵틱스</td>\n",
       "      <td>076610</td>\n",
       "      <td>20230403</td>\n",
       "    </tr>\n",
       "    <tr>\n",
       "      <th>3563</th>\n",
       "      <td>00516246</td>\n",
       "      <td>알에프세미</td>\n",
       "      <td>096610</td>\n",
       "      <td>20230403</td>\n",
       "    </tr>\n",
       "    <tr>\n",
       "      <th>3564</th>\n",
       "      <td>00525679</td>\n",
       "      <td>차바이오텍</td>\n",
       "      <td>085660</td>\n",
       "      <td>20230403</td>\n",
       "    </tr>\n",
       "  </tbody>\n",
       "</table>\n",
       "<p>3565 rows × 4 columns</p>\n",
       "</div>"
      ],
      "text/plain": [
       "     corp_code corp_name stock_code  modify_date\n",
       "0     00260985      한빛네트     036720     20170630\n",
       "1     00264529      엔플렉스     040130     20170630\n",
       "2     00358545    동서정보기술     055000     20170630\n",
       "3     00231567     애드모바일     032600     20170630\n",
       "4     00247939       씨모스     037600     20170630\n",
       "...        ...       ...        ...          ...\n",
       "3560  00413417   우리손에프앤지     073560     20230403\n",
       "3561  00440712      어반리튬     073570     20230403\n",
       "3562  00483735     해성옵틱스     076610     20230403\n",
       "3563  00516246     알에프세미     096610     20230403\n",
       "3564  00525679     차바이오텍     085660     20230403\n",
       "\n",
       "[3565 rows x 4 columns]"
      ]
     },
     "execution_count": 65,
     "metadata": {},
     "output_type": "execute_result"
    }
   ],
   "source": [
    "corp_info_stock_code"
   ]
  },
  {
   "cell_type": "code",
   "execution_count": 39,
   "id": "bceb961f",
   "metadata": {},
   "outputs": [],
   "source": [
    "corp_code_val = '00413417'"
   ]
  },
  {
   "cell_type": "code",
   "execution_count": 40,
   "id": "9f4ae00d",
   "metadata": {},
   "outputs": [],
   "source": [
    "url = 'https://opendart.fss.or.kr/api/company.json?'\n",
    "params = f'crtfc_key={api_key}&corp_code={corp_code_val}'"
   ]
  },
  {
   "cell_type": "code",
   "execution_count": 41,
   "id": "2fcd18b3",
   "metadata": {},
   "outputs": [],
   "source": [
    "api_url = url + params"
   ]
  },
  {
   "cell_type": "code",
   "execution_count": 42,
   "id": "7fd08a66",
   "metadata": {},
   "outputs": [],
   "source": [
    "r = requests.get(api_url)"
   ]
  },
  {
   "cell_type": "code",
   "execution_count": 43,
   "id": "c86c674e",
   "metadata": {},
   "outputs": [],
   "source": [
    "r_json = r.json()"
   ]
  },
  {
   "cell_type": "code",
   "execution_count": 44,
   "id": "bdfb0b9d",
   "metadata": {},
   "outputs": [],
   "source": [
    "df = pd.DataFrame(r_json, index  = [0])"
   ]
  },
  {
   "cell_type": "code",
   "execution_count": 46,
   "id": "d9cad382",
   "metadata": {},
   "outputs": [],
   "source": [
    "total = pd.DataFrame()"
   ]
  },
  {
   "cell_type": "code",
   "execution_count": null,
   "id": "434f0c98",
   "metadata": {},
   "outputs": [],
   "source": [
    "total = pd.concat([total, df])"
   ]
  },
  {
   "cell_type": "code",
   "execution_count": 49,
   "id": "6d898a0b",
   "metadata": {},
   "outputs": [],
   "source": [
    "test_for = dfdf.tail(10)"
   ]
  },
  {
   "cell_type": "markdown",
   "id": "5b17d5a6",
   "metadata": {},
   "source": [
    "## for문을 활용하여 전체 기업 개황 데이터 수집"
   ]
  },
  {
   "cell_type": "code",
   "execution_count": 66,
   "id": "6f4755f4",
   "metadata": {},
   "outputs": [
    {
     "name": "stdout",
     "output_type": "stream",
     "text": [
      "00260985\n",
      "00264529\n",
      "00358545\n",
      "00231567\n",
      "00247939\n",
      "00359614\n",
      "00153551\n",
      "00344746\n",
      "00261188\n",
      "00268020\n",
      "00269287\n",
      "00475286\n",
      "00250775\n",
      "00114321\n",
      "00191108\n",
      "00167378\n",
      "00225210\n",
      "00223346\n"
     ]
    },
    {
     "ename": "KeyboardInterrupt",
     "evalue": "",
     "output_type": "error",
     "traceback": [
      "\u001b[0;31m---------------------------------------------------------------------------\u001b[0m",
      "\u001b[0;31mKeyboardInterrupt\u001b[0m                         Traceback (most recent call last)",
      "\u001b[0;32m/tmp/ipykernel_1180/3136982354.py\u001b[0m in \u001b[0;36m<module>\u001b[0;34m\u001b[0m\n\u001b[1;32m     12\u001b[0m     \u001b[0mtotal\u001b[0m \u001b[0;34m=\u001b[0m \u001b[0mpd\u001b[0m\u001b[0;34m.\u001b[0m\u001b[0mconcat\u001b[0m\u001b[0;34m(\u001b[0m\u001b[0;34m[\u001b[0m\u001b[0mtotal\u001b[0m\u001b[0;34m,\u001b[0m \u001b[0mdf\u001b[0m\u001b[0;34m]\u001b[0m\u001b[0;34m)\u001b[0m\u001b[0;34m\u001b[0m\u001b[0;34m\u001b[0m\u001b[0m\n\u001b[1;32m     13\u001b[0m \u001b[0;34m\u001b[0m\u001b[0m\n\u001b[0;32m---> 14\u001b[0;31m     \u001b[0msleep\u001b[0m\u001b[0;34m(\u001b[0m\u001b[0;36m1\u001b[0m\u001b[0;34m)\u001b[0m\u001b[0;34m\u001b[0m\u001b[0;34m\u001b[0m\u001b[0m\n\u001b[0m\u001b[1;32m     15\u001b[0m \u001b[0;34m\u001b[0m\u001b[0m\n\u001b[1;32m     16\u001b[0m     \u001b[0;31m#print(api_url)\u001b[0m\u001b[0;34m\u001b[0m\u001b[0;34m\u001b[0m\u001b[0m\n",
      "\u001b[0;31mKeyboardInterrupt\u001b[0m: "
     ]
    }
   ],
   "source": [
    "total = pd.DataFrame()\n",
    "# for corp_code_val in test_for['corp_code']: # last 10 \n",
    "for corp_code_val in corp_info_stock_code['corp_code']:  # total\n",
    "    url = 'https://opendart.fss.or.kr/api/company.json?'\n",
    "    params = f'crtfc_key={api_key}&corp_code={corp_code_val}'\n",
    "    \n",
    "    api_url = url + params    \n",
    "    \n",
    "    r = requests.get(api_url)\n",
    "    r_json = r.json()\n",
    "    df = pd.DataFrame(r_json, index  = [0])\n",
    "    total = pd.concat([total, df])\n",
    "    \n",
    "    sleep(1)\n",
    "    \n",
    "    #print(api_url)\n",
    "    print(corp_code_val)"
   ]
  },
  {
   "cell_type": "code",
   "execution_count": null,
   "id": "3af951c2",
   "metadata": {},
   "outputs": [],
   "source": [
    "total.to_csv('company_info.csv', index = False)"
   ]
  },
  {
   "cell_type": "markdown",
   "id": "e35ec257",
   "metadata": {},
   "source": [
    "## 현재 시간"
   ]
  },
  {
   "cell_type": "code",
   "execution_count": 61,
   "id": "fda1b1e1",
   "metadata": {},
   "outputs": [],
   "source": [
    "now = datetime.now()"
   ]
  },
  {
   "cell_type": "code",
   "execution_count": 63,
   "id": "6f2474f0",
   "metadata": {},
   "outputs": [
    {
     "data": {
      "text/plain": [
       "datetime.time(10, 22, 53, 33143)"
      ]
     },
     "execution_count": 63,
     "metadata": {},
     "output_type": "execute_result"
    }
   ],
   "source": [
    "now.time()"
   ]
  },
  {
   "cell_type": "code",
   "execution_count": 64,
   "id": "7532e19b",
   "metadata": {},
   "outputs": [
    {
     "data": {
      "text/plain": [
       "'2023-04-11 10:22:53'"
      ]
     },
     "execution_count": 64,
     "metadata": {},
     "output_type": "execute_result"
    }
   ],
   "source": [
    "now.strftime('%Y-%m-%d %H:%M:%S')"
   ]
  }
 ],
 "metadata": {
  "kernelspec": {
   "display_name": "Python 3 (ipykernel)",
   "language": "python",
   "name": "python3"
  },
  "language_info": {
   "codemirror_mode": {
    "name": "ipython",
    "version": 3
   },
   "file_extension": ".py",
   "mimetype": "text/x-python",
   "name": "python",
   "nbconvert_exporter": "python",
   "pygments_lexer": "ipython3",
   "version": "3.9.13"
  },
  "toc": {
   "base_numbering": 1,
   "nav_menu": {},
   "number_sections": false,
   "sideBar": true,
   "skip_h1_title": false,
   "title_cell": "Table of Contents",
   "title_sidebar": "Contents",
   "toc_cell": false,
   "toc_position": {
    "height": "539px",
    "left": "30px",
    "top": "0px",
    "width": "211.796875px"
   },
   "toc_section_display": true,
   "toc_window_display": true
  }
 },
 "nbformat": 4,
 "nbformat_minor": 5
}
