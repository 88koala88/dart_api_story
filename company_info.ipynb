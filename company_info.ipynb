{
 "cells": [
  {
   "cell_type": "markdown",
   "id": "93e29ce7",
   "metadata": {},
   "source": [
    "# DART 기업 개황 수집"
   ]
  },
  {
   "cell_type": "markdown",
   "id": "93235620",
   "metadata": {},
   "source": [
    "DART 기업 개황을 수집하는데 있어서 필요한 모듈을 불러오자."
   ]
  },
  {
   "cell_type": "code",
   "execution_count": null,
   "id": "c6251fe6",
   "metadata": {},
   "outputs": [],
   "source": [
    "### 필요한 모듈\n",
    "from urllib.request import urlopen\n",
    "from io import BytesIO\n",
    "from zipfile import ZipFile\n",
    "import xml.etree.ElementTree as ET\n",
    "import pandas as pd\n",
    "\n",
    "from time import sleep\n",
    "import requests\n",
    "import json\n",
    "\n",
    "\n",
    "from datetime import datetime"
   ]
  },
  {
   "cell_type": "markdown",
   "id": "cf6f7ada",
   "metadata": {},
   "source": [
    "DART에 요청한 개인 api_key 변수를 만들자"
   ]
  },
  {
   "cell_type": "code",
   "execution_count": 67,
   "id": "04e4c33b",
   "metadata": {},
   "outputs": [],
   "source": [
    "api_key = \"DART에 신청한 개인 api key\""
   ]
  },
  {
   "cell_type": "markdown",
   "id": "80310478",
   "metadata": {},
   "source": [
    "그 다음 회사 corp_code와 stock_code를 담긴 csv 파일을 불러오자. 이때 데이터 타입을 str로 맞춰줘야 앞의 0 숫자들을 표기하는데 용이하다."
   ]
  },
  {
   "cell_type": "code",
   "execution_count": 68,
   "id": "151598e2",
   "metadata": {},
   "outputs": [],
   "source": [
    "corp_info_stock_code = pd.read_csv(\"corp_info_stock_code.csv\", dtype = {'corp_code':str, 'stock_code':str})"
   ]
  },
  {
   "cell_type": "markdown",
   "id": "5a306cba",
   "metadata": {},
   "source": [
    "corp_info_stock_code를 실행"
   ]
  },
  {
   "cell_type": "code",
   "execution_count": 69,
   "id": "c160a13f",
   "metadata": {},
   "outputs": [
    {
     "data": {
      "text/html": [
       "<div>\n",
       "<style scoped>\n",
       "    .dataframe tbody tr th:only-of-type {\n",
       "        vertical-align: middle;\n",
       "    }\n",
       "\n",
       "    .dataframe tbody tr th {\n",
       "        vertical-align: top;\n",
       "    }\n",
       "\n",
       "    .dataframe thead th {\n",
       "        text-align: right;\n",
       "    }\n",
       "</style>\n",
       "<table border=\"1\" class=\"dataframe\">\n",
       "  <thead>\n",
       "    <tr style=\"text-align: right;\">\n",
       "      <th></th>\n",
       "      <th>corp_code</th>\n",
       "      <th>corp_name</th>\n",
       "      <th>stock_code</th>\n",
       "      <th>modify_date</th>\n",
       "    </tr>\n",
       "  </thead>\n",
       "  <tbody>\n",
       "    <tr>\n",
       "      <th>0</th>\n",
       "      <td>00260985</td>\n",
       "      <td>한빛네트</td>\n",
       "      <td>036720</td>\n",
       "      <td>20170630</td>\n",
       "    </tr>\n",
       "    <tr>\n",
       "      <th>1</th>\n",
       "      <td>00264529</td>\n",
       "      <td>엔플렉스</td>\n",
       "      <td>040130</td>\n",
       "      <td>20170630</td>\n",
       "    </tr>\n",
       "    <tr>\n",
       "      <th>2</th>\n",
       "      <td>00358545</td>\n",
       "      <td>동서정보기술</td>\n",
       "      <td>055000</td>\n",
       "      <td>20170630</td>\n",
       "    </tr>\n",
       "    <tr>\n",
       "      <th>3</th>\n",
       "      <td>00231567</td>\n",
       "      <td>애드모바일</td>\n",
       "      <td>032600</td>\n",
       "      <td>20170630</td>\n",
       "    </tr>\n",
       "    <tr>\n",
       "      <th>4</th>\n",
       "      <td>00247939</td>\n",
       "      <td>씨모스</td>\n",
       "      <td>037600</td>\n",
       "      <td>20170630</td>\n",
       "    </tr>\n",
       "    <tr>\n",
       "      <th>...</th>\n",
       "      <td>...</td>\n",
       "      <td>...</td>\n",
       "      <td>...</td>\n",
       "      <td>...</td>\n",
       "    </tr>\n",
       "    <tr>\n",
       "      <th>3560</th>\n",
       "      <td>00413417</td>\n",
       "      <td>우리손에프앤지</td>\n",
       "      <td>073560</td>\n",
       "      <td>20230403</td>\n",
       "    </tr>\n",
       "    <tr>\n",
       "      <th>3561</th>\n",
       "      <td>00440712</td>\n",
       "      <td>어반리튬</td>\n",
       "      <td>073570</td>\n",
       "      <td>20230403</td>\n",
       "    </tr>\n",
       "    <tr>\n",
       "      <th>3562</th>\n",
       "      <td>00483735</td>\n",
       "      <td>해성옵틱스</td>\n",
       "      <td>076610</td>\n",
       "      <td>20230403</td>\n",
       "    </tr>\n",
       "    <tr>\n",
       "      <th>3563</th>\n",
       "      <td>00516246</td>\n",
       "      <td>알에프세미</td>\n",
       "      <td>096610</td>\n",
       "      <td>20230403</td>\n",
       "    </tr>\n",
       "    <tr>\n",
       "      <th>3564</th>\n",
       "      <td>00525679</td>\n",
       "      <td>차바이오텍</td>\n",
       "      <td>085660</td>\n",
       "      <td>20230403</td>\n",
       "    </tr>\n",
       "  </tbody>\n",
       "</table>\n",
       "<p>3565 rows × 4 columns</p>\n",
       "</div>"
      ],
      "text/plain": [
       "     corp_code corp_name stock_code  modify_date\n",
       "0     00260985      한빛네트     036720     20170630\n",
       "1     00264529      엔플렉스     040130     20170630\n",
       "2     00358545    동서정보기술     055000     20170630\n",
       "3     00231567     애드모바일     032600     20170630\n",
       "4     00247939       씨모스     037600     20170630\n",
       "...        ...       ...        ...          ...\n",
       "3560  00413417   우리손에프앤지     073560     20230403\n",
       "3561  00440712      어반리튬     073570     20230403\n",
       "3562  00483735     해성옵틱스     076610     20230403\n",
       "3563  00516246     알에프세미     096610     20230403\n",
       "3564  00525679     차바이오텍     085660     20230403\n",
       "\n",
       "[3565 rows x 4 columns]"
      ]
     },
     "execution_count": 69,
     "metadata": {},
     "output_type": "execute_result"
    }
   ],
   "source": [
    "corp_info_stock_code"
   ]
  },
  {
   "cell_type": "markdown",
   "id": "9af8a5f8",
   "metadata": {},
   "source": [
    "corp_code_val 변수를 만들어 아무 회사의 corp_code 값을 담아두자."
   ]
  },
  {
   "cell_type": "code",
   "execution_count": 39,
   "id": "bceb961f",
   "metadata": {},
   "outputs": [],
   "source": [
    "corp_code_val = '00413417'"
   ]
  },
  {
   "cell_type": "markdown",
   "id": "3ad0a6c6",
   "metadata": {},
   "source": [
    "url 변수를 만들어 dart의 해당 url 주소를 문자열로 넣어준 다음, 파라미터 변수를 만들어 앞서 만든 api_key 변수와 corp_code_val를 f스트링으로 지정해주자. 이는 다음 for문에 넣기 위한 작업이다."
   ]
  },
  {
   "cell_type": "code",
   "execution_count": 40,
   "id": "9f4ae00d",
   "metadata": {},
   "outputs": [],
   "source": [
    "url = 'https://opendart.fss.or.kr/api/company.json?'\n",
    "params = f'crtfc_key={api_key}&corp_code={corp_code_val}'"
   ]
  },
  {
   "cell_type": "markdown",
   "id": "4db3cb1e",
   "metadata": {},
   "source": [
    "위에서 만든 두가지 변수를 합쳐주자."
   ]
  },
  {
   "cell_type": "code",
   "execution_count": 41,
   "id": "2fcd18b3",
   "metadata": {},
   "outputs": [],
   "source": [
    "api_url = url + params"
   ]
  },
  {
   "cell_type": "markdown",
   "id": "54442099",
   "metadata": {},
   "source": [
    "판다스의 requests 라이브러리로 DART의 api를 호출하기 위해 위의 변수를 넣은 호출 변수를 새로 만들어두자."
   ]
  },
  {
   "cell_type": "code",
   "execution_count": 70,
   "id": "7fd08a66",
   "metadata": {},
   "outputs": [],
   "source": [
    "r = requests.get(api_url)"
   ]
  },
  {
   "cell_type": "markdown",
   "id": "4e49d135",
   "metadata": {},
   "source": [
    "호출해서 받은 데이터들을 json 형식으로 받아 r_json 변수에 담아두자."
   ]
  },
  {
   "cell_type": "code",
   "execution_count": 43,
   "id": "c86c674e",
   "metadata": {},
   "outputs": [],
   "source": [
    "r_json = r.json()"
   ]
  },
  {
   "cell_type": "markdown",
   "id": "3102f352",
   "metadata": {},
   "source": [
    "위의 변수를 데이터프레임 형식으로 바꿔 df 변수에 담자."
   ]
  },
  {
   "cell_type": "code",
   "execution_count": 44,
   "id": "bdfb0b9d",
   "metadata": {},
   "outputs": [],
   "source": [
    "df = pd.DataFrame(r_json, index  = [0])"
   ]
  },
  {
   "cell_type": "markdown",
   "id": "472a6fcd",
   "metadata": {},
   "source": [
    "그 다음 total 변수에 데이터프레임을 만드는 함수를 만든다."
   ]
  },
  {
   "cell_type": "code",
   "execution_count": 46,
   "id": "d9cad382",
   "metadata": {},
   "outputs": [],
   "source": [
    "total = pd.DataFrame()"
   ]
  },
  {
   "cell_type": "markdown",
   "id": "81057116",
   "metadata": {},
   "source": [
    "df에서 호출받는 데이터를 데이터프레임에 넣어 이어붙이도록 다시 total에 담는다."
   ]
  },
  {
   "cell_type": "code",
   "execution_count": null,
   "id": "434f0c98",
   "metadata": {},
   "outputs": [],
   "source": [
    "total = pd.concat([total, df])"
   ]
  },
  {
   "cell_type": "markdown",
   "id": "5b17d5a6",
   "metadata": {},
   "source": [
    "## for문을 활용하여 전체 기업 개황 데이터 수집"
   ]
  },
  {
   "cell_type": "markdown",
   "id": "6a2572aa",
   "metadata": {},
   "source": [
    "위에서 만든 변수들을 이용하여 이제 모든 데이터를 연속적으로 수집하기 위하여 for문을 써보자.\n",
    "total 변수로 데이터프레임을 짜는 함수를 지정해주고 for문에서 corp_code_val 변수에 DART에 있는 모든 corp_info_stock_code가 연속해서 들어가도록 코드를 짜준다. 이때 주의해야 할 점은 DART에서는 분당 100회의 데이터만 받을 수 있도록 제한되어 있기 때문에 sleep 메서드를 활용해야 한다. sleep()에서 ()안의 숫자는 몇 초당 1개의 데이터를 주고 받을지 정하는 초에 해당하는 숫자다. 따라서 분당 100회 이내의 데이터를 받도록 적당한 숫자를 sleep안에 집어넣어주자. \n",
    "그리고 for문을 실행해주면 DART에서 제공하고 있는 3565개의 기업 개황 데이터를 모두 받아올 수 있다."
   ]
  },
  {
   "cell_type": "code",
   "execution_count": 66,
   "id": "6f4755f4",
   "metadata": {},
   "outputs": [
    {
     "name": "stdout",
     "output_type": "stream",
     "text": [
      "00260985\n",
      "00264529\n",
      "00358545\n",
      "00231567\n",
      "00247939\n",
      "00359614\n",
      "00153551\n",
      "00344746\n",
      "00261188\n",
      "00268020\n",
      "00269287\n",
      "00475286\n",
      "00250775\n",
      "00114321\n",
      "00191108\n",
      "00167378\n",
      "00225210\n",
      "00223346\n"
     ]
    },
    {
     "ename": "KeyboardInterrupt",
     "evalue": "",
     "output_type": "error",
     "traceback": [
      "\u001b[0;31m---------------------------------------------------------------------------\u001b[0m",
      "\u001b[0;31mKeyboardInterrupt\u001b[0m                         Traceback (most recent call last)",
      "\u001b[0;32m/tmp/ipykernel_1180/3136982354.py\u001b[0m in \u001b[0;36m<module>\u001b[0;34m\u001b[0m\n\u001b[1;32m     12\u001b[0m     \u001b[0mtotal\u001b[0m \u001b[0;34m=\u001b[0m \u001b[0mpd\u001b[0m\u001b[0;34m.\u001b[0m\u001b[0mconcat\u001b[0m\u001b[0;34m(\u001b[0m\u001b[0;34m[\u001b[0m\u001b[0mtotal\u001b[0m\u001b[0;34m,\u001b[0m \u001b[0mdf\u001b[0m\u001b[0;34m]\u001b[0m\u001b[0;34m)\u001b[0m\u001b[0;34m\u001b[0m\u001b[0;34m\u001b[0m\u001b[0m\n\u001b[1;32m     13\u001b[0m \u001b[0;34m\u001b[0m\u001b[0m\n\u001b[0;32m---> 14\u001b[0;31m     \u001b[0msleep\u001b[0m\u001b[0;34m(\u001b[0m\u001b[0;36m1\u001b[0m\u001b[0;34m)\u001b[0m\u001b[0;34m\u001b[0m\u001b[0;34m\u001b[0m\u001b[0m\n\u001b[0m\u001b[1;32m     15\u001b[0m \u001b[0;34m\u001b[0m\u001b[0m\n\u001b[1;32m     16\u001b[0m     \u001b[0;31m#print(api_url)\u001b[0m\u001b[0;34m\u001b[0m\u001b[0;34m\u001b[0m\u001b[0m\n",
      "\u001b[0;31mKeyboardInterrupt\u001b[0m: "
     ]
    }
   ],
   "source": [
    "total = pd.DataFrame()\n",
    "\n",
    "for corp_code_val in corp_info_stock_code['corp_code']:  # total\n",
    "    url = 'https://opendart.fss.or.kr/api/company.json?'\n",
    "    params = f'crtfc_key={api_key}&corp_code={corp_code_val}'\n",
    "    \n",
    "    api_url = url + params    \n",
    "    \n",
    "    r = requests.get(api_url)\n",
    "    r_json = r.json()\n",
    "    df = pd.DataFrame(r_json, index  = [0])\n",
    "    total = pd.concat([total, df])\n",
    "    \n",
    "    sleep(1)\n",
    "    \n",
    "\n",
    "    print(corp_code_val)"
   ]
  },
  {
   "cell_type": "markdown",
   "id": "86d28e73",
   "metadata": {},
   "source": [
    "위에서 받은 기업 개황 데이터들을 company_info.csv에 저장해주자. 이때 항상 index = False로 맞춰주는게 좋다는 것을 유념하자."
   ]
  },
  {
   "cell_type": "code",
   "execution_count": null,
   "id": "3af951c2",
   "metadata": {},
   "outputs": [],
   "source": [
    "total.to_csv('company_info.csv', index = False)"
   ]
  },
  {
   "cell_type": "markdown",
   "id": "e35ec257",
   "metadata": {},
   "source": [
    "## 현재 시간"
   ]
  },
  {
   "cell_type": "markdown",
   "id": "b09283b0",
   "metadata": {},
   "source": [
    "현재 시간을 집어 넣기 위해 변수를 지정해주자. datetime 파이선 라이브러리를 이용하면 된다."
   ]
  },
  {
   "cell_type": "code",
   "execution_count": 61,
   "id": "fda1b1e1",
   "metadata": {},
   "outputs": [],
   "source": [
    "now = datetime.now()"
   ]
  },
  {
   "cell_type": "markdown",
   "id": "db62ee74",
   "metadata": {},
   "source": [
    "now변수의 현재 시간을 확인해보자"
   ]
  },
  {
   "cell_type": "code",
   "execution_count": 63,
   "id": "6f2474f0",
   "metadata": {},
   "outputs": [
    {
     "data": {
      "text/plain": [
       "datetime.time(10, 22, 53, 33143)"
      ]
     },
     "execution_count": 63,
     "metadata": {},
     "output_type": "execute_result"
    }
   ],
   "source": [
    "now.time()"
   ]
  },
  {
   "cell_type": "markdown",
   "id": "62ceb01b",
   "metadata": {},
   "source": [
    "위의 형식이 마음에 안든다. 따라서 우리가 보기 편한 형태로 바꾸기 위해 strftime 라이브러리를 활용하여 다음과 같은 코드를 써보자."
   ]
  },
  {
   "cell_type": "code",
   "execution_count": 64,
   "id": "7532e19b",
   "metadata": {},
   "outputs": [
    {
     "data": {
      "text/plain": [
       "'2023-04-11 10:22:53'"
      ]
     },
     "execution_count": 64,
     "metadata": {},
     "output_type": "execute_result"
    }
   ],
   "source": [
    "now.strftime('%Y-%m-%d %H:%M:%S')"
   ]
  }
 ],
 "metadata": {
  "kernelspec": {
   "display_name": "Python 3 (ipykernel)",
   "language": "python",
   "name": "python3"
  },
  "language_info": {
   "codemirror_mode": {
    "name": "ipython",
    "version": 3
   },
   "file_extension": ".py",
   "mimetype": "text/x-python",
   "name": "python",
   "nbconvert_exporter": "python",
   "pygments_lexer": "ipython3",
   "version": "3.9.13"
  },
  "toc": {
   "base_numbering": 1,
   "nav_menu": {},
   "number_sections": false,
   "sideBar": true,
   "skip_h1_title": false,
   "title_cell": "Table of Contents",
   "title_sidebar": "Contents",
   "toc_cell": false,
   "toc_position": {
    "height": "539px",
    "left": "30px",
    "top": "0px",
    "width": "211.796875px"
   },
   "toc_section_display": true,
   "toc_window_display": true
  }
 },
 "nbformat": 4,
 "nbformat_minor": 5
}
