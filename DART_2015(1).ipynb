{
 "cells": [
  {
   "cell_type": "markdown",
   "id": "d414280b",
   "metadata": {},
   "source": [
    "# DART 기업 재무제표 수집해보기"
   ]
  },
  {
   "cell_type": "code",
   "execution_count": 1,
   "id": "4f1c859e",
   "metadata": {},
   "outputs": [],
   "source": [
    "### 재무제표 수집에 앞서 필요한 모듈들을 불러오자\n",
    "\n",
    "from urllib.request import urlopen\n",
    "from io import BytesIO\n",
    "from zipfile import ZipFile\n",
    "import xml.etree.ElementTree as ET\n",
    "import pandas as pd\n",
    "\n",
    "from time import sleep\n",
    "\n",
    "import requests\n",
    "import json\n",
    "import os\n",
    "\n",
    "\n",
    "from datetime import datetime"
   ]
  },
  {
   "cell_type": "markdown",
   "id": "3d8c03f2",
   "metadata": {},
   "source": [
    "개인이 부여 받은 DART api 키 정보를 입력해준다"
   ]
  },
  {
   "cell_type": "code",
   "execution_count": 2,
   "id": "3934570d",
   "metadata": {},
   "outputs": [],
   "source": [
    "api_key = \"개인이 부여받은 DART api_key\""
   ]
  },
  {
   "cell_type": "markdown",
   "id": "3e7c3101",
   "metadata": {},
   "source": [
    "read_csv를 불러와 데이터프레임으로 읽어보자. dtype처리로 숫자를 문자열로 변환하여 담아주자."
   ]
  },
  {
   "cell_type": "code",
   "execution_count": 3,
   "id": "0fcd0783",
   "metadata": {},
   "outputs": [],
   "source": [
    "corp_info_stock_code = pd.read_csv(\"corp_info_stock_code.csv\", dtype = {'corp_code':str, 'stock_code':str})"
   ]
  },
  {
   "cell_type": "markdown",
   "id": "b77790c1",
   "metadata": {},
   "source": [
    "각 항목마다 val 변수를 만들어 값을 담아둔다."
   ]
  },
  {
   "cell_type": "code",
   "execution_count": 1,
   "id": "972f230d",
   "metadata": {},
   "outputs": [],
   "source": [
    "corp_code_val = '00483735'\n",
    "bsns_year_val = '2022'\n",
    "reprt_code_val = '11011'\n",
    "fs_div_val = 'CFS'"
   ]
  },
  {
   "cell_type": "markdown",
   "id": "dcfc2e88",
   "metadata": {},
   "source": [
    "url 변수에 DART 재무제표 api 주소를 담고, 파라미터 변수를 만들어 f스트링을 활용하여 api_key와 위의 val 변수들을 담아주자."
   ]
  },
  {
   "cell_type": "code",
   "execution_count": 5,
   "id": "b163caca",
   "metadata": {},
   "outputs": [],
   "source": [
    "url = 'https://opendart.fss.or.kr/api/fnlttSinglAcntAll.json?'\n",
    "\n",
    "params = f'crtfc_key={api_key}&corp_code={corp_code_val}&bsns_year={bsns_year_val}&reprt_code={reprt_code_val}&fs_div={fs_div_val}'"
   ]
  },
  {
   "cell_type": "markdown",
   "id": "50d9fa98",
   "metadata": {},
   "source": [
    "위의 두 변수를 간편하게 하나의 변수로 합쳐주자"
   ]
  },
  {
   "cell_type": "code",
   "execution_count": 6,
   "id": "48c549cf",
   "metadata": {},
   "outputs": [],
   "source": [
    "api_url = url + params"
   ]
  },
  {
   "cell_type": "markdown",
   "id": "b1ef53bc",
   "metadata": {},
   "source": [
    "리퀘스트 라이브러리로 위 주소의 원격 ip를 호출하자"
   ]
  },
  {
   "cell_type": "code",
   "execution_count": 7,
   "id": "3ee73743",
   "metadata": {},
   "outputs": [],
   "source": [
    "r = requests.get(api_url)"
   ]
  },
  {
   "cell_type": "markdown",
   "id": "ea2b4138",
   "metadata": {},
   "source": [
    "위의 r변수를 실행하여 제대로 응답이 오는지 확인해주자. 응답코드 200이 나오면 정상이다."
   ]
  },
  {
   "cell_type": "code",
   "execution_count": 8,
   "id": "107d3200",
   "metadata": {},
   "outputs": [
    {
     "data": {
      "text/plain": [
       "<Response [200]>"
      ]
     },
     "execution_count": 8,
     "metadata": {},
     "output_type": "execute_result"
    }
   ],
   "source": [
    "r"
   ]
  },
  {
   "cell_type": "markdown",
   "id": "fd89481a",
   "metadata": {},
   "source": [
    "url의 api를 통해 불려들어오는 json 데이터 포맷을 읽어오기 위해 r_json변수에 r.json()함수를 담는다"
   ]
  },
  {
   "cell_type": "code",
   "execution_count": 9,
   "id": "cdd9751c",
   "metadata": {},
   "outputs": [],
   "source": [
    "r_json = r.json()"
   ]
  },
  {
   "cell_type": "markdown",
   "id": "310f5f88",
   "metadata": {},
   "source": [
    "위의 변수의 데이터가 제대로 응답하는지 알아보기 위해 '정상'이라는 메시지로 표기해주자"
   ]
  },
  {
   "cell_type": "code",
   "execution_count": 10,
   "id": "f127c59f",
   "metadata": {},
   "outputs": [
    {
     "data": {
      "text/plain": [
       "'정상'"
      ]
     },
     "execution_count": 10,
     "metadata": {},
     "output_type": "execute_result"
    }
   ],
   "source": [
    "r_json['message']"
   ]
  },
  {
   "cell_type": "markdown",
   "id": "6ad49245",
   "metadata": {},
   "source": [
    "위의 변수를 데이터프레임으로 변환하는 소스코드를 입력하고 일부를 실행해서 확인해보자."
   ]
  },
  {
   "cell_type": "code",
   "execution_count": 11,
   "id": "8b78fcfd",
   "metadata": {},
   "outputs": [],
   "source": [
    "df = pd.DataFrame([r_json][0]['list'])"
   ]
  },
  {
   "cell_type": "code",
   "execution_count": 12,
   "id": "a7766ec1",
   "metadata": {},
   "outputs": [
    {
     "data": {
      "text/html": [
       "<div>\n",
       "<style scoped>\n",
       "    .dataframe tbody tr th:only-of-type {\n",
       "        vertical-align: middle;\n",
       "    }\n",
       "\n",
       "    .dataframe tbody tr th {\n",
       "        vertical-align: top;\n",
       "    }\n",
       "\n",
       "    .dataframe thead th {\n",
       "        text-align: right;\n",
       "    }\n",
       "</style>\n",
       "<table border=\"1\" class=\"dataframe\">\n",
       "  <thead>\n",
       "    <tr style=\"text-align: right;\">\n",
       "      <th></th>\n",
       "      <th>rcept_no</th>\n",
       "      <th>reprt_code</th>\n",
       "      <th>bsns_year</th>\n",
       "      <th>corp_code</th>\n",
       "      <th>sj_div</th>\n",
       "      <th>sj_nm</th>\n",
       "      <th>account_id</th>\n",
       "      <th>account_nm</th>\n",
       "      <th>account_detail</th>\n",
       "      <th>thstrm_nm</th>\n",
       "      <th>thstrm_amount</th>\n",
       "      <th>frmtrm_nm</th>\n",
       "      <th>frmtrm_amount</th>\n",
       "      <th>bfefrmtrm_nm</th>\n",
       "      <th>bfefrmtrm_amount</th>\n",
       "      <th>ord</th>\n",
       "      <th>currency</th>\n",
       "      <th>thstrm_add_amount</th>\n",
       "    </tr>\n",
       "  </thead>\n",
       "  <tbody>\n",
       "    <tr>\n",
       "      <th>0</th>\n",
       "      <td>20230324000011</td>\n",
       "      <td>11011</td>\n",
       "      <td>2022</td>\n",
       "      <td>00483735</td>\n",
       "      <td>BS</td>\n",
       "      <td>재무상태표</td>\n",
       "      <td>ifrs-full_CurrentAssets</td>\n",
       "      <td>유동자산</td>\n",
       "      <td>-</td>\n",
       "      <td>제 21 기</td>\n",
       "      <td>36478243625</td>\n",
       "      <td>제 20 기</td>\n",
       "      <td>70529362628</td>\n",
       "      <td>제 19 기</td>\n",
       "      <td>35281659914</td>\n",
       "      <td>1</td>\n",
       "      <td>KRW</td>\n",
       "      <td>NaN</td>\n",
       "    </tr>\n",
       "    <tr>\n",
       "      <th>1</th>\n",
       "      <td>20230324000011</td>\n",
       "      <td>11011</td>\n",
       "      <td>2022</td>\n",
       "      <td>00483735</td>\n",
       "      <td>BS</td>\n",
       "      <td>재무상태표</td>\n",
       "      <td>ifrs-full_CashAndCashEquivalents</td>\n",
       "      <td>현금및현금성자산</td>\n",
       "      <td>-</td>\n",
       "      <td>제 21 기</td>\n",
       "      <td>4460348176</td>\n",
       "      <td>제 20 기</td>\n",
       "      <td>22100156627</td>\n",
       "      <td>제 19 기</td>\n",
       "      <td>6467809011</td>\n",
       "      <td>2</td>\n",
       "      <td>KRW</td>\n",
       "      <td>NaN</td>\n",
       "    </tr>\n",
       "    <tr>\n",
       "      <th>2</th>\n",
       "      <td>20230324000011</td>\n",
       "      <td>11011</td>\n",
       "      <td>2022</td>\n",
       "      <td>00483735</td>\n",
       "      <td>BS</td>\n",
       "      <td>재무상태표</td>\n",
       "      <td>dart_ShortTermDepositsNotClassifiedAsCashEquiv...</td>\n",
       "      <td>단기금융상품</td>\n",
       "      <td>-</td>\n",
       "      <td>제 21 기</td>\n",
       "      <td>16320964</td>\n",
       "      <td>제 20 기</td>\n",
       "      <td>4043112750</td>\n",
       "      <td>제 19 기</td>\n",
       "      <td>4072086604</td>\n",
       "      <td>3</td>\n",
       "      <td>KRW</td>\n",
       "      <td>NaN</td>\n",
       "    </tr>\n",
       "    <tr>\n",
       "      <th>3</th>\n",
       "      <td>20230324000011</td>\n",
       "      <td>11011</td>\n",
       "      <td>2022</td>\n",
       "      <td>00483735</td>\n",
       "      <td>BS</td>\n",
       "      <td>재무상태표</td>\n",
       "      <td>ifrs-full_TradeAndOtherCurrentReceivables</td>\n",
       "      <td>매출채권및기타채권</td>\n",
       "      <td>-</td>\n",
       "      <td>제 21 기</td>\n",
       "      <td>12350676804</td>\n",
       "      <td>제 20 기</td>\n",
       "      <td>22492500453</td>\n",
       "      <td>제 19 기</td>\n",
       "      <td>10751878888</td>\n",
       "      <td>4</td>\n",
       "      <td>KRW</td>\n",
       "      <td>NaN</td>\n",
       "    </tr>\n",
       "    <tr>\n",
       "      <th>4</th>\n",
       "      <td>20230324000011</td>\n",
       "      <td>11011</td>\n",
       "      <td>2022</td>\n",
       "      <td>00483735</td>\n",
       "      <td>BS</td>\n",
       "      <td>재무상태표</td>\n",
       "      <td>ifrs-full_Inventories</td>\n",
       "      <td>재고자산</td>\n",
       "      <td>-</td>\n",
       "      <td>제 21 기</td>\n",
       "      <td>4140604587</td>\n",
       "      <td>제 20 기</td>\n",
       "      <td>3262613088</td>\n",
       "      <td>제 19 기</td>\n",
       "      <td>8074495197</td>\n",
       "      <td>5</td>\n",
       "      <td>KRW</td>\n",
       "      <td>NaN</td>\n",
       "    </tr>\n",
       "    <tr>\n",
       "      <th>...</th>\n",
       "      <td>...</td>\n",
       "      <td>...</td>\n",
       "      <td>...</td>\n",
       "      <td>...</td>\n",
       "      <td>...</td>\n",
       "      <td>...</td>\n",
       "      <td>...</td>\n",
       "      <td>...</td>\n",
       "      <td>...</td>\n",
       "      <td>...</td>\n",
       "      <td>...</td>\n",
       "      <td>...</td>\n",
       "      <td>...</td>\n",
       "      <td>...</td>\n",
       "      <td>...</td>\n",
       "      <td>...</td>\n",
       "      <td>...</td>\n",
       "      <td>...</td>\n",
       "    </tr>\n",
       "    <tr>\n",
       "      <th>270</th>\n",
       "      <td>20230324000011</td>\n",
       "      <td>11011</td>\n",
       "      <td>2022</td>\n",
       "      <td>00483735</td>\n",
       "      <td>SCE</td>\n",
       "      <td>자본변동표</td>\n",
       "      <td>ifrs-full_Equity</td>\n",
       "      <td>기말자본</td>\n",
       "      <td>자본 [member]|지배기업의 소유주에게 귀속되는 자본 [member]|기타불입자...</td>\n",
       "      <td>제 21 기</td>\n",
       "      <td>2458935132</td>\n",
       "      <td>제 20 기</td>\n",
       "      <td>413123544</td>\n",
       "      <td>제 19 기</td>\n",
       "      <td>280886064</td>\n",
       "      <td>12</td>\n",
       "      <td>KRW</td>\n",
       "      <td>NaN</td>\n",
       "    </tr>\n",
       "    <tr>\n",
       "      <th>271</th>\n",
       "      <td>20230324000011</td>\n",
       "      <td>11011</td>\n",
       "      <td>2022</td>\n",
       "      <td>00483735</td>\n",
       "      <td>SCE</td>\n",
       "      <td>자본변동표</td>\n",
       "      <td>ifrs-full_Equity</td>\n",
       "      <td>기말자본</td>\n",
       "      <td>자본 [member]|지배기업의 소유주에게 귀속되는 자본 [member]|기타불입자...</td>\n",
       "      <td>제 21 기</td>\n",
       "      <td>75633671151</td>\n",
       "      <td>제 20 기</td>\n",
       "      <td>74893257404</td>\n",
       "      <td>제 19 기</td>\n",
       "      <td>48917565181</td>\n",
       "      <td>12</td>\n",
       "      <td>KRW</td>\n",
       "      <td>NaN</td>\n",
       "    </tr>\n",
       "    <tr>\n",
       "      <th>272</th>\n",
       "      <td>20230324000011</td>\n",
       "      <td>11011</td>\n",
       "      <td>2022</td>\n",
       "      <td>00483735</td>\n",
       "      <td>SCE</td>\n",
       "      <td>자본변동표</td>\n",
       "      <td>ifrs-full_Equity</td>\n",
       "      <td>기말자본</td>\n",
       "      <td>자본 [member]|지배기업의 소유주에게 귀속되는 자본 [member]|기타자본구...</td>\n",
       "      <td>제 21 기</td>\n",
       "      <td>5737031033</td>\n",
       "      <td>제 20 기</td>\n",
       "      <td>4695663839</td>\n",
       "      <td>제 19 기</td>\n",
       "      <td>2411203828</td>\n",
       "      <td>12</td>\n",
       "      <td>KRW</td>\n",
       "      <td>NaN</td>\n",
       "    </tr>\n",
       "    <tr>\n",
       "      <th>273</th>\n",
       "      <td>20230324000011</td>\n",
       "      <td>11011</td>\n",
       "      <td>2022</td>\n",
       "      <td>00483735</td>\n",
       "      <td>SCE</td>\n",
       "      <td>자본변동표</td>\n",
       "      <td>ifrs-full_Equity</td>\n",
       "      <td>기말자본</td>\n",
       "      <td>자본 [member]|지배기업의 소유주에게 귀속되는 자본 [member]|이익잉여금...</td>\n",
       "      <td>제 21 기</td>\n",
       "      <td>-106957951336</td>\n",
       "      <td>제 20 기</td>\n",
       "      <td>-91114460620</td>\n",
       "      <td>제 19 기</td>\n",
       "      <td>-50812013963</td>\n",
       "      <td>12</td>\n",
       "      <td>KRW</td>\n",
       "      <td>NaN</td>\n",
       "    </tr>\n",
       "    <tr>\n",
       "      <th>274</th>\n",
       "      <td>20230324000011</td>\n",
       "      <td>11011</td>\n",
       "      <td>2022</td>\n",
       "      <td>00483735</td>\n",
       "      <td>SCE</td>\n",
       "      <td>자본변동표</td>\n",
       "      <td>ifrs-full_Equity</td>\n",
       "      <td>기말자본</td>\n",
       "      <td>자본 [member]|지배기업의 소유주에게 귀속되는 자본 [member]|자본금 [...</td>\n",
       "      <td>제 21 기</td>\n",
       "      <td>62633997000</td>\n",
       "      <td>제 20 기</td>\n",
       "      <td>57221058500</td>\n",
       "      <td>제 19 기</td>\n",
       "      <td>16016829500</td>\n",
       "      <td>12</td>\n",
       "      <td>KRW</td>\n",
       "      <td>NaN</td>\n",
       "    </tr>\n",
       "  </tbody>\n",
       "</table>\n",
       "<p>275 rows × 18 columns</p>\n",
       "</div>"
      ],
      "text/plain": [
       "           rcept_no reprt_code bsns_year corp_code sj_div  sj_nm  \\\n",
       "0    20230324000011      11011      2022  00483735     BS  재무상태표   \n",
       "1    20230324000011      11011      2022  00483735     BS  재무상태표   \n",
       "2    20230324000011      11011      2022  00483735     BS  재무상태표   \n",
       "3    20230324000011      11011      2022  00483735     BS  재무상태표   \n",
       "4    20230324000011      11011      2022  00483735     BS  재무상태표   \n",
       "..              ...        ...       ...       ...    ...    ...   \n",
       "270  20230324000011      11011      2022  00483735    SCE  자본변동표   \n",
       "271  20230324000011      11011      2022  00483735    SCE  자본변동표   \n",
       "272  20230324000011      11011      2022  00483735    SCE  자본변동표   \n",
       "273  20230324000011      11011      2022  00483735    SCE  자본변동표   \n",
       "274  20230324000011      11011      2022  00483735    SCE  자본변동표   \n",
       "\n",
       "                                            account_id account_nm  \\\n",
       "0                              ifrs-full_CurrentAssets       유동자산   \n",
       "1                     ifrs-full_CashAndCashEquivalents   현금및현금성자산   \n",
       "2    dart_ShortTermDepositsNotClassifiedAsCashEquiv...     단기금융상품   \n",
       "3            ifrs-full_TradeAndOtherCurrentReceivables  매출채권및기타채권   \n",
       "4                                ifrs-full_Inventories       재고자산   \n",
       "..                                                 ...        ...   \n",
       "270                                   ifrs-full_Equity       기말자본   \n",
       "271                                   ifrs-full_Equity       기말자본   \n",
       "272                                   ifrs-full_Equity       기말자본   \n",
       "273                                   ifrs-full_Equity       기말자본   \n",
       "274                                   ifrs-full_Equity       기말자본   \n",
       "\n",
       "                                        account_detail thstrm_nm  \\\n",
       "0                                                    -    제 21 기   \n",
       "1                                                    -    제 21 기   \n",
       "2                                                    -    제 21 기   \n",
       "3                                                    -    제 21 기   \n",
       "4                                                    -    제 21 기   \n",
       "..                                                 ...       ...   \n",
       "270  자본 [member]|지배기업의 소유주에게 귀속되는 자본 [member]|기타불입자...    제 21 기   \n",
       "271  자본 [member]|지배기업의 소유주에게 귀속되는 자본 [member]|기타불입자...    제 21 기   \n",
       "272  자본 [member]|지배기업의 소유주에게 귀속되는 자본 [member]|기타자본구...    제 21 기   \n",
       "273  자본 [member]|지배기업의 소유주에게 귀속되는 자본 [member]|이익잉여금...    제 21 기   \n",
       "274  자본 [member]|지배기업의 소유주에게 귀속되는 자본 [member]|자본금 [...    제 21 기   \n",
       "\n",
       "     thstrm_amount frmtrm_nm frmtrm_amount bfefrmtrm_nm bfefrmtrm_amount ord  \\\n",
       "0      36478243625    제 20 기   70529362628       제 19 기      35281659914   1   \n",
       "1       4460348176    제 20 기   22100156627       제 19 기       6467809011   2   \n",
       "2         16320964    제 20 기    4043112750       제 19 기       4072086604   3   \n",
       "3      12350676804    제 20 기   22492500453       제 19 기      10751878888   4   \n",
       "4       4140604587    제 20 기    3262613088       제 19 기       8074495197   5   \n",
       "..             ...       ...           ...          ...              ...  ..   \n",
       "270     2458935132    제 20 기     413123544       제 19 기        280886064  12   \n",
       "271    75633671151    제 20 기   74893257404       제 19 기      48917565181  12   \n",
       "272     5737031033    제 20 기    4695663839       제 19 기       2411203828  12   \n",
       "273  -106957951336    제 20 기  -91114460620       제 19 기     -50812013963  12   \n",
       "274    62633997000    제 20 기   57221058500       제 19 기      16016829500  12   \n",
       "\n",
       "    currency thstrm_add_amount  \n",
       "0        KRW               NaN  \n",
       "1        KRW               NaN  \n",
       "2        KRW               NaN  \n",
       "3        KRW               NaN  \n",
       "4        KRW               NaN  \n",
       "..       ...               ...  \n",
       "270      KRW               NaN  \n",
       "271      KRW               NaN  \n",
       "272      KRW               NaN  \n",
       "273      KRW               NaN  \n",
       "274      KRW               NaN  \n",
       "\n",
       "[275 rows x 18 columns]"
      ]
     },
     "execution_count": 12,
     "metadata": {},
     "output_type": "execute_result"
    }
   ],
   "source": [
    "df"
   ]
  },
  {
   "cell_type": "code",
   "execution_count": 3,
   "id": "3e1f99b5",
   "metadata": {},
   "outputs": [],
   "source": [
    "# ETL 방식을 활용해보자.\n",
    "# ETL은 추출(Extract), 변환(Transform), 로드(Load)를 말한다.\n",
    "# 조직에서 여러 시스템의 데이터를 단일 데이터베이스, 데이터 저장소, 데이터 웨어하우스 또는 데이터 레이크에 결합하기 위해 일반적으로 허용되는 방법이다."
   ]
  },
  {
   "cell_type": "markdown",
   "id": "7c9ab08e",
   "metadata": {},
   "source": [
    "여기에서는 DART 기업의 전체 재무제표를 불러오기 전에 일단 DART내의 일부분의 데이터를 불러오는 실습을 해보자.\n",
    "이번에는 2022년 (분기, 반기, 3분기, 사업) 보고서 연결재무제표를 불러올 것이다. 따라서 다음과 같이 변수를 만들어 리스트 값을 담아주자."
   ]
  },
  {
   "cell_type": "code",
   "execution_count": 14,
   "id": "6b3912b9",
   "metadata": {},
   "outputs": [],
   "source": [
    "bsns_year_list = ['2022']\n",
    "reprt_code_list = ['11011','11012','11013','11015']\n",
    "fs_div_val_list = ['CFS']"
   ]
  },
  {
   "cell_type": "markdown",
   "id": "c5ae1407",
   "metadata": {},
   "source": [
    "사업연도와 연결재무제표는 항목이 1개이므로 놔두고, 나머지 보고서 형식과 기업 고유번호만 반복문을 활용하여 담아주어야 하므로 val변수를 만들어 값을 넣어주자."
   ]
  },
  {
   "cell_type": "code",
   "execution_count": 15,
   "id": "dc6535f5",
   "metadata": {},
   "outputs": [],
   "source": [
    "reprt_code_val = '1101521'\n",
    "corp_code_val = '02168546'"
   ]
  },
  {
   "cell_type": "markdown",
   "id": "cfd76761",
   "metadata": {},
   "source": [
    "앞서 위에서 준비를 했던 코드를 활용해보자."
   ]
  },
  {
   "cell_type": "code",
   "execution_count": 16,
   "id": "323a7661",
   "metadata": {},
   "outputs": [],
   "source": [
    "url = 'https://opendart.fss.or.kr/api/fnlttSinglAcntAll.json?'\n",
    "params = f'crtfc_key={api_key}&corp_code={corp_code_val}&bsns_year={bsns_year_val}&reprt_code={reprt_code_val}&fs_div={fs_div_val}'\n",
    "\n",
    "api_url = url + params\n",
    "\n",
    "r = requests.get(api_url)\n",
    "r_json = r.json()"
   ]
  },
  {
   "cell_type": "code",
   "execution_count": 44,
   "id": "f3ec5e08",
   "metadata": {},
   "outputs": [
    {
     "data": {
      "text/plain": [
       "'https://opendart.fss.or.kr/api/fnlttSinglAcntAll.json?crtfc_key=801b9fc87e380dfc40a19a593d6fd762bc681388&corp_code=02168546&bsns_year=2022&reprt_code=1101521&fs_div=CFS'"
      ]
     },
     "execution_count": 44,
     "metadata": {},
     "output_type": "execute_result"
    }
   ],
   "source": [
    "api_url"
   ]
  },
  {
   "cell_type": "code",
   "execution_count": 46,
   "id": "db2a05d2",
   "metadata": {},
   "outputs": [
    {
     "data": {
      "text/plain": [
       "{'status': '013', 'message': '조회된 데이타가 없습니다.'}"
      ]
     },
     "execution_count": 46,
     "metadata": {},
     "output_type": "execute_result"
    }
   ],
   "source": [
    "r_json"
   ]
  },
  {
   "cell_type": "markdown",
   "id": "e8672c78",
   "metadata": {},
   "source": [
    "try-except 구문을 활용해보자.(DART에서 값이 누락되는 기업이 많으므로 예외처리를 해줘야한다.)"
   ]
  },
  {
   "cell_type": "code",
   "execution_count": null,
   "id": "7ae34c80",
   "metadata": {},
   "outputs": [],
   "source": [
    "try:\n",
    "\n",
    "except:\n"
   ]
  },
  {
   "cell_type": "code",
   "execution_count": null,
   "id": "811d126f",
   "metadata": {},
   "outputs": [],
   "source": [
    "bsns_year_list = ['2022']\n",
    "reprt_code_list = ['11011','11012','11013','11015']\n",
    "fs_div_val_list = ['CFS']"
   ]
  },
  {
   "cell_type": "code",
   "execution_count": 19,
   "id": "cc87c34d",
   "metadata": {},
   "outputs": [],
   "source": [
    "bsns_year_val = '2022'\n",
    "fs_div_val = 'CFS'"
   ]
  },
  {
   "cell_type": "markdown",
   "id": "af2e95ed",
   "metadata": {},
   "source": [
    "해당 데이터 값이 있을 경우와 없을 경우로 나누어 값이 있는 경우만 데이터를 디렉토리에 값을 담아주자."
   ]
  },
  {
   "cell_type": "code",
   "execution_count": 17,
   "id": "d4fb2275",
   "metadata": {},
   "outputs": [],
   "source": [
    "if not os.path.exists(f'fnlttSinglAcntAll'):\n",
    "    os.makedirs('fnlttSinglAcntAll')"
   ]
  },
  {
   "cell_type": "markdown",
   "id": "215c6d91",
   "metadata": {},
   "source": [
    "위에서 준비했던 코드들을 이용하여 실제로 데이터를 수집하는 소스코드를 짜면 다음과 같다. for구문을 활용하여 각각 다양한 데이터들을 반복해서 담아주고, try-except 구문으로 누락 데이터값을 예외처리 해주자. 또한 DART의 api 데이터 속도 제한으로 sleep 메서드를 꼭 넣어주자. 분당 100회를 넘어가면 안되므로 0.7값 정도가 적당하다. 그리고 여기에선 if not- else 구문으로 데이터가 있을 경우와 없을 경우 항목을 나누어두었다. log로 불러온 데이터값을 데이터프레임으로 변환하여 log_fnlttSinglAcntAll.csv에 최종적으로 저장하도록 코드를 짰다."
   ]
  },
  {
   "cell_type": "code",
   "execution_count": null,
   "id": "e787d000",
   "metadata": {},
   "outputs": [
    {
     "name": "stdout",
     "output_type": "stream",
     "text": [
      "00260985_2022_11011_CFS\n",
      "failed\n",
      "00260985_2022_11012_CFS\n",
      "failed\n",
      "00260985_2022_11013_CFS\n",
      "failed\n",
      "00260985_2022_11015_CFS\n",
      "failed\n",
      "00264529_2022_11011_CFS\n",
      "failed\n",
      "00264529_2022_11012_CFS\n",
      "failed\n",
      "00264529_2022_11013_CFS\n",
      "failed\n",
      "00264529_2022_11015_CFS\n",
      "failed\n",
      "00358545_2022_11011_CFS\n",
      "failed\n",
      "00358545_2022_11012_CFS\n",
      "failed\n",
      "00358545_2022_11013_CFS\n",
      "failed\n",
      "00358545_2022_11015_CFS\n",
      "failed\n",
      "00231567_2022_11011_CFS\n",
      "failed\n",
      "00231567_2022_11012_CFS\n",
      "failed\n",
      "00231567_2022_11013_CFS\n",
      "failed\n",
      "00231567_2022_11015_CFS\n",
      "failed\n",
      "00247939_2022_11011_CFS\n",
      "failed\n",
      "00247939_2022_11012_CFS\n",
      "failed\n",
      "00247939_2022_11013_CFS\n",
      "failed\n",
      "00247939_2022_11015_CFS\n",
      "failed\n",
      "00359614_2022_11011_CFS\n",
      "failed\n",
      "00359614_2022_11012_CFS\n",
      "failed\n",
      "00359614_2022_11013_CFS\n",
      "failed\n",
      "00359614_2022_11015_CFS\n",
      "failed\n",
      "00153551_2022_11011_CFS\n",
      "failed\n",
      "00153551_2022_11012_CFS\n",
      "failed\n",
      "00153551_2022_11013_CFS\n",
      "failed\n",
      "00153551_2022_11015_CFS\n",
      "failed\n",
      "00344746_2022_11011_CFS\n",
      "failed\n",
      "00344746_2022_11012_CFS\n",
      "failed\n",
      "00344746_2022_11013_CFS\n",
      "failed\n",
      "00344746_2022_11015_CFS\n",
      "failed\n",
      "00261188_2022_11011_CFS\n",
      "failed\n",
      "00261188_2022_11012_CFS\n",
      "failed\n",
      "00261188_2022_11013_CFS\n",
      "failed\n",
      "00261188_2022_11015_CFS\n",
      "failed\n",
      "00268020_2022_11011_CFS\n",
      "failed\n",
      "00268020_2022_11012_CFS\n",
      "failed\n",
      "00268020_2022_11013_CFS\n",
      "failed\n",
      "00268020_2022_11015_CFS\n",
      "failed\n",
      "00269287_2022_11011_CFS\n",
      "failed\n",
      "00269287_2022_11012_CFS\n",
      "failed\n",
      "00269287_2022_11013_CFS\n",
      "failed\n",
      "00269287_2022_11015_CFS\n",
      "failed\n",
      "00475286_2022_11011_CFS\n",
      "failed\n",
      "00475286_2022_11012_CFS\n",
      "failed\n",
      "00475286_2022_11013_CFS\n",
      "failed\n",
      "00475286_2022_11015_CFS\n",
      "failed\n",
      "00250775_2022_11011_CFS\n",
      "failed\n",
      "00250775_2022_11012_CFS\n",
      "failed\n",
      "00250775_2022_11013_CFS\n",
      "failed\n",
      "00250775_2022_11015_CFS\n",
      "failed\n",
      "00114321_2022_11011_CFS\n",
      "failed\n",
      "00114321_2022_11012_CFS\n",
      "failed\n",
      "00114321_2022_11013_CFS\n",
      "failed\n",
      "00114321_2022_11015_CFS\n",
      "failed\n",
      "00191108_2022_11011_CFS\n",
      "failed\n",
      "00191108_2022_11012_CFS\n",
      "failed\n",
      "00191108_2022_11013_CFS\n",
      "failed\n",
      "00191108_2022_11015_CFS\n",
      "failed\n",
      "00167378_2022_11011_CFS\n",
      "failed\n",
      "00167378_2022_11012_CFS\n",
      "failed\n",
      "00167378_2022_11013_CFS\n",
      "failed\n",
      "00167378_2022_11015_CFS\n",
      "failed\n",
      "00225210_2022_11011_CFS\n",
      "failed\n",
      "00225210_2022_11012_CFS\n",
      "failed\n",
      "00225210_2022_11013_CFS\n",
      "failed\n",
      "00225210_2022_11015_CFS\n",
      "failed\n",
      "00223346_2022_11011_CFS\n",
      "failed\n",
      "00223346_2022_11012_CFS\n",
      "failed\n",
      "00223346_2022_11013_CFS\n",
      "failed\n",
      "00223346_2022_11015_CFS\n",
      "failed\n",
      "00174129_2022_11011_CFS\n",
      "failed\n",
      "00174129_2022_11012_CFS\n",
      "failed\n",
      "00174129_2022_11013_CFS\n",
      "failed\n",
      "00174129_2022_11015_CFS\n",
      "failed\n",
      "00114826_2022_11011_CFS\n",
      "failed\n",
      "00114826_2022_11012_CFS\n",
      "failed\n",
      "00114826_2022_11013_CFS\n",
      "failed\n",
      "00114826_2022_11015_CFS\n",
      "failed\n",
      "00173333_2022_11011_CFS\n",
      "failed\n",
      "00173333_2022_11012_CFS\n",
      "failed\n",
      "00173333_2022_11013_CFS\n",
      "failed\n",
      "00173333_2022_11015_CFS\n",
      "failed\n",
      "00687599_2022_11011_CFS\n",
      "failed\n",
      "00687599_2022_11012_CFS\n",
      "failed\n",
      "00687599_2022_11013_CFS\n",
      "failed\n",
      "00687599_2022_11015_CFS\n",
      "failed\n",
      "00256292_2022_11011_CFS\n",
      "failed\n",
      "00256292_2022_11012_CFS\n",
      "failed\n",
      "00256292_2022_11013_CFS\n",
      "failed\n",
      "00256292_2022_11015_CFS\n",
      "failed\n",
      "00271431_2022_11011_CFS\n",
      "failed\n",
      "00271431_2022_11012_CFS\n",
      "failed\n",
      "00271431_2022_11013_CFS\n",
      "failed\n",
      "00271431_2022_11015_CFS\n",
      "failed\n",
      "00154727_2022_11011_CFS\n",
      "failed\n",
      "00154727_2022_11012_CFS\n",
      "failed\n",
      "00154727_2022_11013_CFS\n",
      "failed\n",
      "00154727_2022_11015_CFS\n",
      "failed\n",
      "00246189_2022_11011_CFS\n",
      "failed\n",
      "00246189_2022_11012_CFS\n",
      "failed\n",
      "00246189_2022_11013_CFS\n",
      "failed\n",
      "00246189_2022_11015_CFS\n",
      "failed\n",
      "00154204_2022_11011_CFS\n",
      "failed\n",
      "00154204_2022_11012_CFS\n",
      "failed\n",
      "00154204_2022_11013_CFS\n",
      "failed\n",
      "00154204_2022_11015_CFS\n",
      "failed\n",
      "00152631_2022_11011_CFS\n",
      "failed\n",
      "00152631_2022_11012_CFS\n",
      "failed\n",
      "00152631_2022_11013_CFS\n",
      "failed\n",
      "00152631_2022_11015_CFS\n",
      "failed\n",
      "00107923_2022_11011_CFS\n",
      "failed\n",
      "00107923_2022_11012_CFS\n",
      "failed\n",
      "00107923_2022_11013_CFS\n",
      "failed\n",
      "00107923_2022_11015_CFS\n",
      "failed\n",
      "00358095_2022_11011_CFS\n",
      "failed\n",
      "00358095_2022_11012_CFS\n",
      "failed\n",
      "00358095_2022_11013_CFS\n",
      "failed\n",
      "00358095_2022_11015_CFS\n",
      "failed\n",
      "00510215_2022_11011_CFS\n",
      "failed\n",
      "00510215_2022_11012_CFS\n",
      "failed\n",
      "00510215_2022_11013_CFS\n",
      "failed\n",
      "00510215_2022_11015_CFS\n",
      "failed\n",
      "00347619_2022_11011_CFS\n",
      "failed\n",
      "00347619_2022_11012_CFS\n",
      "failed\n",
      "00347619_2022_11013_CFS\n"
     ]
    }
   ],
   "source": [
    "# total = pd.DataFrame()\n",
    "for corp_code_val in corp_info_stock_code['corp_code']:  # corp code\n",
    "    for reprt_code_val in reprt_code_list: # reprt code (11011, 11012, 11013, 11014)\n",
    "        print(f'{corp_code_val}_{bsns_year_val}_{reprt_code_val}_{fs_div_val}')\n",
    "        \n",
    "        url = 'https://opendart.fss.or.kr/api/fnlttSinglAcntAll.json?'\n",
    "        params = f'crtfc_key={api_key}&corp_code={corp_code_val}&bsns_year={bsns_year_val}&reprt_code={reprt_code_val}&fs_div={fs_div_val}'\n",
    "    \n",
    "        try:\n",
    "    \n",
    "            api_url = url + params\n",
    "   \n",
    "            r = requests.get(api_url)\n",
    "            r_json = r.json()\n",
    "            sleep(0.7)\n",
    "            \n",
    "            df = pd.DataFrame([r_json][0]['list'])\n",
    "            \n",
    "            df.to_csv(f'fnlttSinglAcntAll/{corp_code_val}_{bsns_year_val}_{reprt_code_val}_{fs_div_val}.csv', index = False)\n",
    "            \n",
    "            # log\n",
    "            now = datetime.now()\n",
    "            log_df = pd.DataFrame({\n",
    "                'corp_code':corp_code_val,\n",
    "                'bsns_year':bsns_year_val,\n",
    "                'reprt_code':reprt_code_val,\n",
    "                'fs_div':fs_div_val,\n",
    "                'time': now.strftime('%Y-%m-%d %H:%M:%S'),\n",
    "                'status':r_json['message']            \n",
    "            },index = [0])\n",
    "            \n",
    "            if not os.path.exists(f'log_fnlttSinglAcntAll.csv'):\n",
    "                log_df.to_csv(f'log_fnlttSinglAcntAll.csv', index = False, mode = 'w')\n",
    "            else:\n",
    "                log_df.to_csv(f'log_fnlttSinglAcntAll.csv', index = False, mode = 'a', header = False)    \n",
    "            print('success')\n",
    "            \n",
    "         \n",
    "        except:\n",
    "            # log\n",
    "            now = datetime.now()\n",
    "            log_df = pd.DataFrame({\n",
    "                'corp_code':corp_code_val,\n",
    "                'bsns_year':bsns_year_val,\n",
    "                'reprt_code':reprt_code_val,\n",
    "                'fs_div':fs_div_val,\n",
    "                'time': now.strftime('%Y-%m-%d %H:%M:%S'),\n",
    "                'status':r_json['message']            \n",
    "            },index = [0])\n",
    "            \n",
    "            if not os.path.exists(f'log_fnlttSinglAcntAll.csv'):\n",
    "                log_df.to_csv(f'log_fnlttSinglAcntAll.csv', index = False, mode = 'w')\n",
    "            else:\n",
    "                log_df.to_csv(f'log_fnlttSinglAcntAll.csv', index = False, mode = 'a', header = False)   \n",
    "            print('failed')\n",
    "            \n",
    "#     df = pd.DataFrame([r_json][0]['list'])    \n",
    "#     total = pd.concat([total,df])"
   ]
  },
  {
   "cell_type": "markdown",
   "id": "7268a837",
   "metadata": {},
   "source": [
    "참고)밑의 코드는 해당 데이터가 존재하는지 여부를 보기 위한 코드다."
   ]
  },
  {
   "cell_type": "code",
   "execution_count": 49,
   "id": "62673594",
   "metadata": {},
   "outputs": [
    {
     "data": {
      "text/plain": [
       "True"
      ]
     },
     "execution_count": 49,
     "metadata": {},
     "output_type": "execute_result"
    }
   ],
   "source": [
    "os.path.exists('company_info.csv')"
   ]
  },
  {
   "cell_type": "markdown",
   "id": "dfe10d0c",
   "metadata": {},
   "source": [
    "### DART 재무제표 데이터를 받으려면 수많은 데이터를 받아와야 하는데 DART의 api 데이터 제한으로 인해 단일 IP에 단일 ID로는 한계가 많다. 많은 시간이 소요되기 때문이다. 따라서 IP와 ID 개수를 여러개 만들어주고 항목을 나누어 동시에 데이터 수집 처리를 해주면 시간적으로 많은 절약을 할 수 있다. MAC의 경우 터미널에서 nohup 명령어를 활용하여 여러 서버를 실행시켜준 다음 여러개의 파이썬을 구동해주면 된다. 예를 들어 한쪽은 OFS를 수집하고 한쪽은 CFS를 수집하는 식이다. DART에서는 항상 하루 20,000개의 데이터를 초과하면 안된다는것을 염두에 두자."
   ]
  },
  {
   "cell_type": "markdown",
   "id": "9174b85c",
   "metadata": {},
   "source": [
    "### 코드를 다 만들었으면 파이썬을 실행하여 필요한 코드를 복사해주고 구동해보자. 실제적으로 log_fnlttSinglAcntAll.csv 파일에 데이터가 수집되어 있는 것을 확인할 수 있을 것이다."
   ]
  }
 ],
 "metadata": {
  "kernelspec": {
   "display_name": "Python 3 (ipykernel)",
   "language": "python",
   "name": "python3"
  },
  "language_info": {
   "codemirror_mode": {
    "name": "ipython",
    "version": 3
   },
   "file_extension": ".py",
   "mimetype": "text/x-python",
   "name": "python",
   "nbconvert_exporter": "python",
   "pygments_lexer": "ipython3",
   "version": "3.9.13"
  },
  "toc": {
   "base_numbering": 1,
   "nav_menu": {},
   "number_sections": false,
   "sideBar": true,
   "skip_h1_title": false,
   "title_cell": "Table of Contents",
   "title_sidebar": "Contents",
   "toc_cell": false,
   "toc_position": {
    "height": "calc(100% - 180px)",
    "left": "10px",
    "top": "150px",
    "width": "264.796875px"
   },
   "toc_section_display": true,
   "toc_window_display": false
  }
 },
 "nbformat": 4,
 "nbformat_minor": 5
}
