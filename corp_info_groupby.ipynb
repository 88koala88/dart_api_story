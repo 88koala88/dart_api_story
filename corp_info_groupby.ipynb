{
 "cells": [
  {
   "cell_type": "code",
   "execution_count": 8,
   "id": "7bdffdc4",
   "metadata": {},
   "outputs": [],
   "source": [
    "import pandas as pd"
   ]
  },
  {
   "cell_type": "code",
   "execution_count": 9,
   "id": "5b77a1f6",
   "metadata": {},
   "outputs": [],
   "source": [
    "corp_info_group = pd.read_csv(\"company_info.csv\", dtype = {'corp_code':str, 'stock_code':str})"
   ]
  },
  {
   "cell_type": "code",
   "execution_count": 11,
   "id": "028f3ce7",
   "metadata": {},
   "outputs": [],
   "source": [
    "df = corp_info_group"
   ]
  },
  {
   "cell_type": "code",
   "execution_count": 20,
   "id": "2c8a67e5",
   "metadata": {},
   "outputs": [
    {
     "data": {
      "text/plain": [
       "corp_cls\n",
       "E     974\n",
       "K    1632\n",
       "N     132\n",
       "Y     827\n",
       "Name: corp_code, dtype: int64"
      ]
     },
     "execution_count": 20,
     "metadata": {},
     "output_type": "execute_result"
    }
   ],
   "source": [
    "corp_cls_count = df.groupby('corp_cls').corp_code.count()\n",
    "corp_cls_count"
   ]
  },
  {
   "cell_type": "code",
   "execution_count": 21,
   "id": "f58babc6",
   "metadata": {},
   "outputs": [
    {
     "data": {
      "text/plain": [
       "induty_code\n",
       "11        2\n",
       "26       24\n",
       "27        3\n",
       "30        7\n",
       "42        3\n",
       "         ..\n",
       "85701     1\n",
       "90191     1\n",
       "91121     1\n",
       "91249     4\n",
       "95120     1\n",
       "Name: corp_code, Length: 619, dtype: int64"
      ]
     },
     "execution_count": 21,
     "metadata": {},
     "output_type": "execute_result"
    }
   ],
   "source": [
    "induty_code_count = df.groupby('induty_code').corp_code.count()\n",
    "induty_code_count"
   ]
  }
 ],
 "metadata": {
  "kernelspec": {
   "display_name": "Python 3 (ipykernel)",
   "language": "python",
   "name": "python3"
  },
  "language_info": {
   "codemirror_mode": {
    "name": "ipython",
    "version": 3
   },
   "file_extension": ".py",
   "mimetype": "text/x-python",
   "name": "python",
   "nbconvert_exporter": "python",
   "pygments_lexer": "ipython3",
   "version": "3.9.13"
  },
  "toc": {
   "base_numbering": 1,
   "nav_menu": {},
   "number_sections": true,
   "sideBar": true,
   "skip_h1_title": false,
   "title_cell": "Table of Contents",
   "title_sidebar": "Contents",
   "toc_cell": false,
   "toc_position": {},
   "toc_section_display": true,
   "toc_window_display": false
  }
 },
 "nbformat": 4,
 "nbformat_minor": 5
}
